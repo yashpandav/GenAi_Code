{
 "cells": [
  {
   "cell_type": "code",
   "execution_count": 1,
   "metadata": {},
   "outputs": [],
   "source": [
    "from pathlib import Path\n",
    "from langchain_community.document_loaders import PyPDFLoader\n",
    "from langchain_text_splitters import RecursiveCharacterTextSplitter\n",
    "from langchain_google_genai import GoogleGenerativeAIEmbeddings\n",
    "from langchain_chroma import Chroma"
   ]
  },
  {
   "cell_type": "code",
   "execution_count": 2,
   "metadata": {},
   "outputs": [
    {
     "data": {
      "text/plain": [
       "True"
      ]
     },
     "execution_count": 2,
     "metadata": {},
     "output_type": "execute_result"
    }
   ],
   "source": [
    "\n",
    "from dotenv import load_dotenv\n",
    "load_dotenv() "
   ]
  },
  {
   "cell_type": "code",
   "execution_count": 3,
   "metadata": {},
   "outputs": [],
   "source": [
    "pdf_path = Path(\"./nodejs.pdf\")"
   ]
  },
  {
   "cell_type": "code",
   "execution_count": 4,
   "metadata": {},
   "outputs": [
    {
     "name": "stderr",
     "output_type": "stream",
     "text": [
      "Ignoring wrong pointing object 268 0 (offset 0)\n",
      "Ignoring wrong pointing object 309 0 (offset 0)\n"
     ]
    }
   ],
   "source": [
    "\n",
    "load = PyPDFLoader(file_path = pdf_path)\n",
    "doc = load.load()\n"
   ]
  },
  {
   "cell_type": "code",
   "execution_count": 5,
   "metadata": {},
   "outputs": [],
   "source": [
    "\n",
    "text_splitter = RecursiveCharacterTextSplitter(\n",
    "    chunk_size = 1000,\n",
    "    chunk_overlap = 200\n",
    ")"
   ]
  },
  {
   "cell_type": "code",
   "execution_count": 6,
   "metadata": {},
   "outputs": [],
   "source": [
    "spited = text_splitter.split_documents(documents=doc)"
   ]
  },
  {
   "cell_type": "code",
   "execution_count": 9,
   "metadata": {},
   "outputs": [
    {
     "name": "stdout",
     "output_type": "stream",
     "text": [
      "New Chroma DB created.\n"
     ]
    }
   ],
   "source": [
    "import os\n",
    "if not os.path.exists(\"qdrant_store\"):\n",
    "    store = Chroma.from_documents(\n",
    "    documents=spited,\n",
    "    embedding=GoogleGenerativeAIEmbeddings(model=\"models/embedding-001\"),\n",
    "    persist_directory=\"qdrant_store\"\n",
    "    )\n",
    "    print(\"New Chroma DB created.\")\n",
    "else:\n",
    "    print(\"Directory already exists. Skipping creation.\")"
   ]
  },
  {
   "cell_type": "code",
   "execution_count": 10,
   "metadata": {},
   "outputs": [],
   "source": [
    "retriever = store.as_retriever(\n",
    "     search_type = \"similarity\",\n",
    "        search_kwargs = {\n",
    "            \"k\":10 \n",
    "        }\n",
    ")"
   ]
  },
  {
   "cell_type": "code",
   "execution_count": 11,
   "metadata": {},
   "outputs": [],
   "source": [
    "from langchain_google_genai import ChatGoogleGenerativeAI\n",
    "\n",
    "llm = ChatGoogleGenerativeAI(model=\"gemini-1.5-pro\",temperature=0.3, max_tokens=500)"
   ]
  },
  {
   "cell_type": "code",
   "execution_count": 18,
   "metadata": {},
   "outputs": [],
   "source": [
    "from langchain.chains import create_retrieval_chain\n",
    "from langchain.chains.combine_documents import create_stuff_documents_chain\n",
    "from langchain_core.prompts import ChatPromptTemplate, PromptTemplate\n",
    "from langchain.chains import LLMChain\n"
   ]
  },
  {
   "cell_type": "code",
   "execution_count": 13,
   "metadata": {},
   "outputs": [],
   "source": [
    "system_prompt = (\n",
    "    \"You are a helpful assistant that answers questions about Data Science {context}\"\n",
    ")\n",
    "\n",
    "prompt = ChatPromptTemplate.from_messages(\n",
    "    [\n",
    "        (\"system\", system_prompt),\n",
    "        (\"user\", \"{input}\"),\n",
    "    ]\n",
    ")"
   ]
  },
  {
   "cell_type": "code",
   "execution_count": 14,
   "metadata": {},
   "outputs": [],
   "source": [
    "question_answer_chain = create_stuff_documents_chain(llm, prompt)\n"
   ]
  },
  {
   "cell_type": "code",
   "execution_count": 17,
   "metadata": {},
   "outputs": [],
   "source": [
    "\n",
    "query_variation_prompt = PromptTemplate.from_template(\n",
    "    \"Generate 5 diverse and useful variations of the following question for better document retrieval:\\n\\nQuestion: {question}\\n\\nVariations:\"\n",
    ")"
   ]
  },
  {
   "cell_type": "code",
   "execution_count": 19,
   "metadata": {},
   "outputs": [
    {
     "name": "stderr",
     "output_type": "stream",
     "text": [
      "C:\\Users\\yashp\\AppData\\Local\\Temp\\ipykernel_12772\\1357315315.py:1: LangChainDeprecationWarning: The class `LLMChain` was deprecated in LangChain 0.1.17 and will be removed in 1.0. Use :meth:`~RunnableSequence, e.g., `prompt | llm`` instead.\n",
      "  variation_chain = LLMChain(llm=llm, prompt=query_variation_prompt)\n"
     ]
    }
   ],
   "source": [
    "variation_chain = LLMChain(llm=llm, prompt=query_variation_prompt)"
   ]
  },
  {
   "cell_type": "code",
   "execution_count": 21,
   "metadata": {},
   "outputs": [],
   "source": [
    "user_question = \"Can you explain routing in nodejs briefly?\""
   ]
  },
  {
   "cell_type": "code",
   "execution_count": 22,
   "metadata": {},
   "outputs": [],
   "source": [
    "variation_response = variation_chain.invoke({\"question\": user_question})\n",
    "query_variations = [line.strip(\"- \").strip() for line in variation_response['text'].split(\"\\n\") if line.strip()]\n",
    "all_queries = [user_question] + query_variations"
   ]
  },
  {
   "cell_type": "code",
   "execution_count": 28,
   "metadata": {},
   "outputs": [
    {
     "name": "stdout",
     "output_type": "stream",
     "text": [
      "\n",
      "🧠 Generated Query Variations:\n",
      "1. **Node.js Routing: A concise explanation** (Focuses on brevity and uses a keyword likely found in documentation titles)\n",
      "2. **How are routes defined and handled in a Node.js application?** (More specific about the mechanics of routing)\n",
      "3. **What are the core concepts and components involved in Node.js routing (e.g., request, response, middleware)?** (Emphasizes key elements and encourages structured explanations)\n",
      "4. **Best practices for implementing efficient and scalable routing in Node.js** (Shifts focus towards practical application and optimization)\n",
      "5. **Comparison of different Node.js routing libraries/frameworks (e.g., Express.js, Hapi.js).** (Expands the scope to include common tools and encourages comparative analysis)\n"
     ]
    }
   ],
   "source": [
    "print(\"\\n🧠 Generated Query Variations:\")\n",
    "for i, q in enumerate(query_variations, 1):\n",
    "    print(f\"{q}\")"
   ]
  },
  {
   "cell_type": "code",
   "execution_count": 26,
   "metadata": {},
   "outputs": [
    {
     "name": "stdout",
     "output_type": "stream",
     "text": [
      "\n",
      "📘 Final Answer:\n",
      " Routing in Node.js, typically using the Express.js framework, directs incoming HTTP requests to appropriate handler functions based on the URL path.  Think of it as a traffic controller for your web application.\n",
      "\n",
      "Here's a breakdown:\n",
      "\n",
      "1. **Request:** A client (like a web browser) sends an HTTP request to your server with a specific URL (e.g., `/users` or `/products/123`).\n",
      "\n",
      "2. **Router:** Express.js uses a `Router` object to match the request's URL path to predefined routes.\n",
      "\n",
      "3. **Routes:** Routes are defined using HTTP methods (GET, POST, PUT, DELETE, etc.) and URL patterns. For example:\n",
      "\n",
      "   ```javascript\n",
      "   const express = require('express');\n",
      "   const router = express.Router();\n",
      "\n",
      "   router.get('/users', (req, res) => { \n",
      "       // Handle GET request to /users\n",
      "   });\n",
      "\n",
      "   router.post('/products', (req, res) => {\n",
      "       // Handle POST request to /products\n",
      "   });\n",
      "\n",
      "   module.exports = router;\n",
      "   ```\n",
      "\n",
      "4. **Middleware:** Functions (called middleware) can be executed before the final route handler. This is useful for tasks like authentication, logging, or data parsing.\n",
      "\n",
      "5. **Route Handler:** When a matching route is found, the associated handler function is executed. This function receives the request object (`req`) containing information about the request (headers, body, etc.) and the response object (`res`) used to send the response back to the client.\n",
      "\n",
      "6. **Response:** The route handler generates a response, which can be HTML, JSON, or other data formats, and sends it back to the client via the `res` object.\n",
      "\n",
      "\n",
      "By defining different routes and their corresponding handlers, you control how your application responds to various requests, creating the logic and flow of your web service or API.  Routers can also be modularized and combined for better organization in larger applications.\n"
     ]
    }
   ],
   "source": [
    "retrieved_docs = retriever.invoke(user_question)\n",
    "\n",
    "response = question_answer_chain.invoke({\n",
    "    \"context\": retrieved_docs,\n",
    "    \"input\": user_question\n",
    "})\n",
    "\n",
    "print(\"\\n📘 Final Answer:\\n\", response)"
   ]
  },
  {
   "cell_type": "code",
   "execution_count": null,
   "metadata": {},
   "outputs": [],
   "source": [
    "response = rag_chain.invoke({\"input\": \"Can you explain Data Frame in Pandas briefly?\"})\n",
    "print(response[\"answer\"])"
   ]
  }
 ],
 "metadata": {
  "kernelspec": {
   "display_name": "venv",
   "language": "python",
   "name": "python3"
  },
  "language_info": {
   "codemirror_mode": {
    "name": "ipython",
    "version": 3
   },
   "file_extension": ".py",
   "mimetype": "text/x-python",
   "name": "python",
   "nbconvert_exporter": "python",
   "pygments_lexer": "ipython3",
   "version": "3.12.6"
  }
 },
 "nbformat": 4,
 "nbformat_minor": 2
}

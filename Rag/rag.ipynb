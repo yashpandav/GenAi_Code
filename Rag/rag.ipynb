{
 "cells": [
  {
   "cell_type": "code",
   "execution_count": 1,
   "metadata": {},
   "outputs": [],
   "source": [
    "from pathlib import Path\n",
    "from langchain_community.document_loaders import PyPDFLoader\n",
    "from langchain_text_splitters import RecursiveCharacterTextSplitter\n",
    "from langchain_google_genai import GoogleGenerativeAIEmbeddings\n",
    "from langchain_chroma import Chroma"
   ]
  },
  {
   "cell_type": "code",
   "execution_count": 2,
   "metadata": {},
   "outputs": [
    {
     "data": {
      "text/plain": [
       "True"
      ]
     },
     "execution_count": 2,
     "metadata": {},
     "output_type": "execute_result"
    }
   ],
   "source": [
    "\n",
    "from dotenv import load_dotenv\n",
    "load_dotenv() "
   ]
  },
  {
   "cell_type": "code",
   "execution_count": 6,
   "metadata": {},
   "outputs": [],
   "source": [
    "pdf_path = Path(\"nodejs.pdf\")"
   ]
  },
  {
   "cell_type": "code",
   "execution_count": 7,
   "metadata": {},
   "outputs": [
    {
     "name": "stderr",
     "output_type": "stream",
     "text": [
      "Ignoring wrong pointing object 268 0 (offset 0)\n",
      "Ignoring wrong pointing object 309 0 (offset 0)\n"
     ]
    }
   ],
   "source": [
    "\n",
    "load = PyPDFLoader(file_path = pdf_path)\n",
    "doc = load.load()\n"
   ]
  },
  {
   "cell_type": "code",
   "execution_count": 8,
   "metadata": {},
   "outputs": [],
   "source": [
    "\n",
    "text_splitter = RecursiveCharacterTextSplitter(\n",
    "    chunk_size = 1000,\n",
    "    chunk_overlap = 200\n",
    ")"
   ]
  },
  {
   "cell_type": "code",
   "execution_count": 9,
   "metadata": {},
   "outputs": [],
   "source": [
    "\n",
    "\n",
    "spited = text_splitter.split_documents(documents=doc)"
   ]
  },
  {
   "cell_type": "code",
   "execution_count": 10,
   "metadata": {},
   "outputs": [],
   "source": [
    "store = Chroma.from_documents(\n",
    "    documents=spited,\n",
    "    embedding=GoogleGenerativeAIEmbeddings(model=\"models/embedding-001\"),\n",
    "    persist_directory=\"qdrant_store\"\n",
    ")\n"
   ]
  },
  {
   "cell_type": "code",
   "execution_count": 11,
   "metadata": {},
   "outputs": [],
   "source": [
    "retriever = store.as_retriever(\n",
    "     search_type = \"similarity\",\n",
    "        search_kwargs = {\n",
    "            \"k\":10 \n",
    "        }\n",
    ")"
   ]
  },
  {
   "cell_type": "code",
   "execution_count": 16,
   "metadata": {},
   "outputs": [],
   "source": [
    "retrieved_docs = retriever.invoke(\"What is node js\")"
   ]
  },
  {
   "cell_type": "code",
   "execution_count": 17,
   "metadata": {},
   "outputs": [
    {
     "name": "stdout",
     "output_type": "stream",
     "text": [
      "[Document(id='a6c24586-f553-4b97-b88f-b89f154b19f3', metadata={'author': 'Andrew Mead', 'creationdate': \"D:20190227140340Z00'00'\", 'creator': 'Acrobat PDFMaker 17 for Word', 'moddate': \"D:20190227140340Z00'00'\", 'page': 7, 'page_label': '8', 'producer': 'macOS Version 10.14.1 (Build 18B75) Quartz PDFContext', 'source': 'nodejs.pdf', 'total_pages': 125}, page_content='In this lesson, you’ll install Node.js and Visual Studio Code. Both are free, open source, \\nand available for all operating system. They’re the only tools needed to get started with \\nNode! \\nBelow are links to both tools. Take a moment to install them before continuing on with the \\nclass. \\nLinks \\n• Node.js \\n• Visual Studio Code \\nLesson 3: What is Node.js? \\nIn this lesson, you’ll explore what Node.js is. This includes a brief tour of the V8 JavaScript \\nengine, non-blocking I/O, and more!'), Document(id='7430b558-932d-44a2-a6c8-eeebf02d43de', metadata={'author': 'Andrew Mead', 'creationdate': \"D:20190227140340Z00'00'\", 'creator': 'Acrobat PDFMaker 17 for Word', 'moddate': \"D:20190227140340Z00'00'\", 'page': 8, 'page_label': '9', 'producer': 'macOS Version 10.14.1 (Build 18B75) Quartz PDFContext', 'source': 'nodejs.pdf', 'total_pages': 125}, page_content=\"Version 1.0 9 \\nThis lesson contains a presentation that covers what Node.js is. There are no notes for \\npresentation lectures. Please refer to the video for details. \\nLesson 4: Why Should I Use Node.js? \\nWhy should you use Node.js? In this lesson, you’ll learn what makes Node.js a tool worth \\nusing. \\nThis lesson contains a presentation that covers the major advantages of Node.js. There \\nare no notes for presentation lectures. Please refer to the video for details. \\nLesson 5: Your First Node.js Script \\nIt’s time. In this lesson, you’ll be creating and running your very first Node.js app. \\nCreating a Script \\nNode.js scripts are created with the js file extension. Remember that Node.js is not a \\nprogramming language. All the code in this course is JavaScript code, which is why the js \\nextension is used. \\nBelow is an example script stored in a file named index.js. \\nconsole.log('Hello Node.js!') \\nRunning a Script\"), Document(id='b2c74c4e-e068-4722-91bf-6e9de2c7c477', metadata={'author': 'Andrew Mead', 'creationdate': \"D:20190227140340Z00'00'\", 'creator': 'Acrobat PDFMaker 17 for Word', 'moddate': \"D:20190227140340Z00'00'\", 'page': 7, 'page_label': '8', 'producer': 'macOS Version 10.14.1 (Build 18B75) Quartz PDFContext', 'source': 'nodejs.pdf', 'total_pages': 125}, page_content='Version 1.0 8 \\nSection 1: Welcome \\nWelcome to the course! \\nThis first section contains a brief overview of the class. There are no lecture notes for this \\nfirst section as it’s an introduction to the rest of the class. This section is still important \\nthough, so make sure to watch the lecture videos to learn how to get the most out of the \\nclass. \\nEnjoy! \\nSection 2: Installing and Exploring Node.js \\nLesson 1: Section Intro \\nIn this section, you’re going to set up your machine for the rest of the course. This includes \\ninstalling Node.js and Visual Studio Code. This section also dives into what Node.js is, how \\nNode.js works, and why Node.js is a tool worth learning. \\nLesson 2: Installing Node.js and Visual Studio Code \\nIn this lesson, you’ll install Node.js and Visual Studio Code. Both are free, open source, \\nand available for all operating system. They’re the only tools needed to get started with \\nNode!'), Document(id='fcbf5afd-a13d-44d5-8b70-4a9a650f51d3', metadata={'author': 'Andrew Mead', 'creationdate': \"D:20190227140340Z00'00'\", 'creator': 'Acrobat PDFMaker 17 for Word', 'moddate': \"D:20190227140340Z00'00'\", 'page': 1, 'page_label': '2', 'producer': 'macOS Version 10.14.1 (Build 18B75) Quartz PDFContext', 'source': 'nodejs.pdf', 'total_pages': 125}, page_content='Version 1.0 2 \\nSection 1: Welcome ................................................................................................................... 8 \\nSection 2: Installing and Exploring Node.js .......................................................................... 8 \\nLesson 1: Section Intro ....................................................................................................................... 8 \\nLesson 2: Installing Node.js and Visual Studio Code ............................................................... 8 \\nLesson 3: What is Node.js? .............................................................................................................. 8 \\nLesson 4: Why Should I Use Node.js? ........................................................................................... 9 \\nLesson 5: Your First Node.js Script ................................................................................................ 9'), Document(id='2f3c16d9-2ec2-4bbe-b165-23d99a89a566', metadata={'author': 'Andrew Mead', 'creationdate': \"D:20190227140340Z00'00'\", 'creator': 'Acrobat PDFMaker 17 for Word', 'moddate': \"D:20190227140340Z00'00'\", 'page': 9, 'page_label': '10', 'producer': 'macOS Version 10.14.1 (Build 18B75) Quartz PDFContext', 'source': 'nodejs.pdf', 'total_pages': 125}, page_content=\"Importing Node.js Core Modules \\nTo get started, let’s work with some built-in Node.js modules. These are modules that \\ncome with Node, so there’s no need to install them. \\nThe module system is built around the require function. This function is used to load in a \\nmodule and get access to its contents. require is a global variable provided to all your \\nNode.js scripts, so you can use it anywhere you like! \\nLet’s look at an example. \\nconst fs = require('fs') \\n  \\nfs.writeFileSync('notes.txt', 'I live in Philadelphia') \\nThe script above uses require to load in the fs module. This is a built-in Node.js module \\nthat provides functions you can use to manipulate the file system. The script uses \\nwriteFileSync to write a message to notes.txt. \\nAfter you run the script, you’ll notice a new notes.txt file in your directory. Open it up and \\nyou’ll see, “I live in Philadelphia!”. \\nLinks \\n• Node.js documentation\"), Document(id='8d7fa998-3414-4701-94aa-e144266428b0', metadata={'author': 'Andrew Mead', 'creationdate': \"D:20190227140340Z00'00'\", 'creator': 'Acrobat PDFMaker 17 for Word', 'moddate': \"D:20190227140340Z00'00'\", 'page': 57, 'page_label': '58', 'producer': 'macOS Version 10.14.1 (Build 18B75) Quartz PDFContext', 'source': 'nodejs.pdf', 'total_pages': 125}, page_content='Version 1.0 58 \\nYou can create a dev script with the value nodemon src/app.js -e js,hbs. This will start \\nup the dev server anytime you run npm run dev. \\nThe dev script needs nodemon to be installed. The issue is that nodemon isn’t listed as a \\ndependency in package.json. However, this can be fixed by uninstalling nodemon \\nglobally. \\nnpm uninstall -g nodemon \\nNow, install it as a local dependency. \\nnpm install nodemon \\nNow, npm install will be able to install all your application dependencies, including \\nnodemon! \\nSection 10: MongoDB and Promises \\nLesson 1: Section Intro \\nIn this section, you’ll learn how to connect to a MongoDB database from your Node.js \\napplication. This will allow your application to store data in a secure and reliable fashion. \\nThe task application will use MongoDB to store user accounts as well as tasks. \\nLesson 2: MongoDB and NoSQL Databases \\nIn this lesson, you’ll explore NoSQL databases and MongoDB. MongoDB and NoSQL'), Document(id='b58d9617-6ec8-4d62-b6bd-9e4a484e636a', metadata={'author': 'Andrew Mead', 'creationdate': \"D:20190227140340Z00'00'\", 'creator': 'Acrobat PDFMaker 17 for Word', 'moddate': \"D:20190227140340Z00'00'\", 'page': 14, 'page_label': '15', 'producer': 'macOS Version 10.14.1 (Build 18B75) Quartz PDFContext', 'source': 'nodejs.pdf', 'total_pages': 125}, page_content='Version 1.0 15 \\nnodemon app.js \\nP.S. You can stop nodemon by using ctrl + c from the terminal! \\nLinks \\n• npm: nodemon \\nSection 4: File System and Command Line Args \\nLesson 1: Section Intro \\nIt’s time to start building your first Node.js application. In this section, you’ll learn how to \\nuse the file system and command line arguments to create a note taking app. Along the \\nway, you’ll learn how to get input from the user, work with JSON, and create a place to \\nstore user data. \\nLesson 2: Getting Input from Users \\nI can’t think of a single useful application that doesn’t get input from the users. Whether it’s \\ntheir email, location, or age, getting input is essential for creating real-world apps. In this \\nlesson, you’ll learn how to set up command line arguments that allow users to pass data \\ninto your application. \\nAccessing Command Line Arguments \\nCommand line arguments are values passed into your application from the terminal. Your'), Document(id='d794ec78-ded0-4347-b4bf-71886119bf18', metadata={'author': 'Andrew Mead', 'creationdate': \"D:20190227140340Z00'00'\", 'creator': 'Acrobat PDFMaker 17 for Word', 'moddate': \"D:20190227140340Z00'00'\", 'page': 26, 'page_label': '27', 'producer': 'macOS Version 10.14.1 (Build 18B75) Quartz PDFContext', 'source': 'nodejs.pdf', 'total_pages': 125}, page_content='Version 1.0 27 \\n$ node app.js \\nStarting \\nStopping \\n2 Second Timer \\nNotice that “Stopping” prints before “2 Second Timer”. That’s because setTimeout is \\nasynchronous and non-blocking. The setTimeout call doesn’t block Node.js from running \\nother code while it’s waiting for the 2 seconds to pass. \\nThis asynchronous and non-blocking nature makes Node.js ideal for backend \\ndevelopment. Your server can wait for data from a database while also processing an \\nincoming HTTP request. \\nLinks \\n• setTimeout \\nLesson 3: Call Stack, Callback Queue, and Event Loop \\nIn this lesson, you’ll visualize how Node.js and V8 manage your asynchronous code. This \\nincludes the call stack, callback queue, event loop, and more! \\nThis lesson contains a detailed presentation. Please refer to the video for a recap of how \\nasynchronous programming works. \\nYou can grab the slides here. \\nLesson 4: Making HTTP Requests \\nIn this lesson, you’ll learn how to make HTTP requests from Node. This will enable your'), Document(id='3d32e07e-a8f7-4a0b-91ae-171fdeb70a0f', metadata={'author': 'Andrew Mead', 'creationdate': \"D:20190227140340Z00'00'\", 'creator': 'Acrobat PDFMaker 17 for Word', 'moddate': \"D:20190227140340Z00'00'\", 'page': 8, 'page_label': '9', 'producer': 'macOS Version 10.14.1 (Build 18B75) Quartz PDFContext', 'source': 'nodejs.pdf', 'total_pages': 125}, page_content=\"extension is used. \\nBelow is an example script stored in a file named index.js. \\nconsole.log('Hello Node.js!') \\nRunning a Script \\nYou can run a Node.js script using the node command. Open up a new terminal window \\nand navigate to the directory where the script lives. From the terminal, you can use the \\nnode command to provide the path to the script that should run. You can see an example \\nof this command in the terminal below. \\n$ node index.js \\nHello Node.js! \\nWhen a Node.js script calls console.log, the logged values will show up in the terminal. \\nThis is a great way to get output from your Node.js application\"), Document(id='90d8f720-b770-4b51-86a2-4739f8d9787e', metadata={'author': 'Andrew Mead', 'creationdate': \"D:20190227140340Z00'00'\", 'creator': 'Acrobat PDFMaker 17 for Word', 'moddate': \"D:20190227140340Z00'00'\", 'page': 9, 'page_label': '10', 'producer': 'macOS Version 10.14.1 (Build 18B75) Quartz PDFContext', 'source': 'nodejs.pdf', 'total_pages': 125}, page_content='Version 1.0 10 \\nSection 3: Node.js Module System \\nLesson 1: Section Intro \\nThe best way to get started with Node.js is to explore its module system. The module \\nsystem lets you load external libraries into your application. That’ll enable you to take \\nadvantage of built-in Node.js modules as well as third-party npm modules. This includes \\nlibraries for connecting to database, creating web servers, and more! \\nLesson 2: Importing Node.js Core Modules \\nNode.js comes with dozens of built-in modules. These built-in modules, sometimes \\nreferred to as core modules, give you access to tools for working with the file system, \\nmaking http requests, creating web servers, and more! In this lesson, you’ll learn how to \\nload in those core modules and use them in your code. \\nImporting Node.js Core Modules \\nTo get started, let’s work with some built-in Node.js modules. These are modules that \\ncome with Node, so there’s no need to install them.')]\n"
     ]
    }
   ],
   "source": [
    "print(retrieved_docs)"
   ]
  },
  {
   "cell_type": "code",
   "execution_count": 19,
   "metadata": {},
   "outputs": [
    {
     "name": "stdout",
     "output_type": "stream",
     "text": [
      "In this lesson, you’ll install Node.js and Visual Studio Code. Both are free, open source, \n",
      "and available for all operating system. They’re the only tools needed to get started with \n",
      "Node! \n",
      "Below are links to both tools. Take a moment to install them before continuing on with the \n",
      "class. \n",
      "Links \n",
      "• Node.js \n",
      "• Visual Studio Code \n",
      "Lesson 3: What is Node.js? \n",
      "In this lesson, you’ll explore what Node.js is. This includes a brief tour of the V8 JavaScript \n",
      "engine, non-blocking I/O, and more!\n",
      "Version 1.0 9 \n",
      "This lesson contains a presentation that covers what Node.js is. There are no notes for \n",
      "presentation lectures. Please refer to the video for details. \n",
      "Lesson 4: Why Should I Use Node.js? \n",
      "Why should you use Node.js? In this lesson, you’ll learn what makes Node.js a tool worth \n",
      "using. \n",
      "This lesson contains a presentation that covers the major advantages of Node.js. There \n",
      "are no notes for presentation lectures. Please refer to the video for details. \n",
      "Lesson 5: Your First Node.js Script \n",
      "It’s time. In this lesson, you’ll be creating and running your very first Node.js app. \n",
      "Creating a Script \n",
      "Node.js scripts are created with the js file extension. Remember that Node.js is not a \n",
      "programming language. All the code in this course is JavaScript code, which is why the js \n",
      "extension is used. \n",
      "Below is an example script stored in a file named index.js. \n",
      "console.log('Hello Node.js!') \n",
      "Running a Script\n",
      "Version 1.0 8 \n",
      "Section 1: Welcome \n",
      "Welcome to the course! \n",
      "This first section contains a brief overview of the class. There are no lecture notes for this \n",
      "first section as it’s an introduction to the rest of the class. This section is still important \n",
      "though, so make sure to watch the lecture videos to learn how to get the most out of the \n",
      "class. \n",
      "Enjoy! \n",
      "Section 2: Installing and Exploring Node.js \n",
      "Lesson 1: Section Intro \n",
      "In this section, you’re going to set up your machine for the rest of the course. This includes \n",
      "installing Node.js and Visual Studio Code. This section also dives into what Node.js is, how \n",
      "Node.js works, and why Node.js is a tool worth learning. \n",
      "Lesson 2: Installing Node.js and Visual Studio Code \n",
      "In this lesson, you’ll install Node.js and Visual Studio Code. Both are free, open source, \n",
      "and available for all operating system. They’re the only tools needed to get started with \n",
      "Node!\n",
      "Version 1.0 2 \n",
      "Section 1: Welcome ................................................................................................................... 8 \n",
      "Section 2: Installing and Exploring Node.js .......................................................................... 8 \n",
      "Lesson 1: Section Intro ....................................................................................................................... 8 \n",
      "Lesson 2: Installing Node.js and Visual Studio Code ............................................................... 8 \n",
      "Lesson 3: What is Node.js? .............................................................................................................. 8 \n",
      "Lesson 4: Why Should I Use Node.js? ........................................................................................... 9 \n",
      "Lesson 5: Your First Node.js Script ................................................................................................ 9\n",
      "Importing Node.js Core Modules \n",
      "To get started, let’s work with some built-in Node.js modules. These are modules that \n",
      "come with Node, so there’s no need to install them. \n",
      "The module system is built around the require function. This function is used to load in a \n",
      "module and get access to its contents. require is a global variable provided to all your \n",
      "Node.js scripts, so you can use it anywhere you like! \n",
      "Let’s look at an example. \n",
      "const fs = require('fs') \n",
      "  \n",
      "fs.writeFileSync('notes.txt', 'I live in Philadelphia') \n",
      "The script above uses require to load in the fs module. This is a built-in Node.js module \n",
      "that provides functions you can use to manipulate the file system. The script uses \n",
      "writeFileSync to write a message to notes.txt. \n",
      "After you run the script, you’ll notice a new notes.txt file in your directory. Open it up and \n",
      "you’ll see, “I live in Philadelphia!”. \n",
      "Links \n",
      "• Node.js documentation\n",
      "Version 1.0 58 \n",
      "You can create a dev script with the value nodemon src/app.js -e js,hbs. This will start \n",
      "up the dev server anytime you run npm run dev. \n",
      "The dev script needs nodemon to be installed. The issue is that nodemon isn’t listed as a \n",
      "dependency in package.json. However, this can be fixed by uninstalling nodemon \n",
      "globally. \n",
      "npm uninstall -g nodemon \n",
      "Now, install it as a local dependency. \n",
      "npm install nodemon \n",
      "Now, npm install will be able to install all your application dependencies, including \n",
      "nodemon! \n",
      "Section 10: MongoDB and Promises \n",
      "Lesson 1: Section Intro \n",
      "In this section, you’ll learn how to connect to a MongoDB database from your Node.js \n",
      "application. This will allow your application to store data in a secure and reliable fashion. \n",
      "The task application will use MongoDB to store user accounts as well as tasks. \n",
      "Lesson 2: MongoDB and NoSQL Databases \n",
      "In this lesson, you’ll explore NoSQL databases and MongoDB. MongoDB and NoSQL\n",
      "Version 1.0 15 \n",
      "nodemon app.js \n",
      "P.S. You can stop nodemon by using ctrl + c from the terminal! \n",
      "Links \n",
      "• npm: nodemon \n",
      "Section 4: File System and Command Line Args \n",
      "Lesson 1: Section Intro \n",
      "It’s time to start building your first Node.js application. In this section, you’ll learn how to \n",
      "use the file system and command line arguments to create a note taking app. Along the \n",
      "way, you’ll learn how to get input from the user, work with JSON, and create a place to \n",
      "store user data. \n",
      "Lesson 2: Getting Input from Users \n",
      "I can’t think of a single useful application that doesn’t get input from the users. Whether it’s \n",
      "their email, location, or age, getting input is essential for creating real-world apps. In this \n",
      "lesson, you’ll learn how to set up command line arguments that allow users to pass data \n",
      "into your application. \n",
      "Accessing Command Line Arguments \n",
      "Command line arguments are values passed into your application from the terminal. Your\n",
      "Version 1.0 27 \n",
      "$ node app.js \n",
      "Starting \n",
      "Stopping \n",
      "2 Second Timer \n",
      "Notice that “Stopping” prints before “2 Second Timer”. That’s because setTimeout is \n",
      "asynchronous and non-blocking. The setTimeout call doesn’t block Node.js from running \n",
      "other code while it’s waiting for the 2 seconds to pass. \n",
      "This asynchronous and non-blocking nature makes Node.js ideal for backend \n",
      "development. Your server can wait for data from a database while also processing an \n",
      "incoming HTTP request. \n",
      "Links \n",
      "• setTimeout \n",
      "Lesson 3: Call Stack, Callback Queue, and Event Loop \n",
      "In this lesson, you’ll visualize how Node.js and V8 manage your asynchronous code. This \n",
      "includes the call stack, callback queue, event loop, and more! \n",
      "This lesson contains a detailed presentation. Please refer to the video for a recap of how \n",
      "asynchronous programming works. \n",
      "You can grab the slides here. \n",
      "Lesson 4: Making HTTP Requests \n",
      "In this lesson, you’ll learn how to make HTTP requests from Node. This will enable your\n",
      "extension is used. \n",
      "Below is an example script stored in a file named index.js. \n",
      "console.log('Hello Node.js!') \n",
      "Running a Script \n",
      "You can run a Node.js script using the node command. Open up a new terminal window \n",
      "and navigate to the directory where the script lives. From the terminal, you can use the \n",
      "node command to provide the path to the script that should run. You can see an example \n",
      "of this command in the terminal below. \n",
      "$ node index.js \n",
      "Hello Node.js! \n",
      "When a Node.js script calls console.log, the logged values will show up in the terminal. \n",
      "This is a great way to get output from your Node.js application\n",
      "Version 1.0 10 \n",
      "Section 3: Node.js Module System \n",
      "Lesson 1: Section Intro \n",
      "The best way to get started with Node.js is to explore its module system. The module \n",
      "system lets you load external libraries into your application. That’ll enable you to take \n",
      "advantage of built-in Node.js modules as well as third-party npm modules. This includes \n",
      "libraries for connecting to database, creating web servers, and more! \n",
      "Lesson 2: Importing Node.js Core Modules \n",
      "Node.js comes with dozens of built-in modules. These built-in modules, sometimes \n",
      "referred to as core modules, give you access to tools for working with the file system, \n",
      "making http requests, creating web servers, and more! In this lesson, you’ll learn how to \n",
      "load in those core modules and use them in your code. \n",
      "Importing Node.js Core Modules \n",
      "To get started, let’s work with some built-in Node.js modules. These are modules that \n",
      "come with Node, so there’s no need to install them.\n"
     ]
    }
   ],
   "source": [
    "for doc in retrieved_docs:\n",
    "    print(doc.page_content)"
   ]
  },
  {
   "cell_type": "code",
   "execution_count": null,
   "metadata": {},
   "outputs": [],
   "source": []
  }
 ],
 "metadata": {
  "kernelspec": {
   "display_name": "venv",
   "language": "python",
   "name": "python3"
  },
  "language_info": {
   "codemirror_mode": {
    "name": "ipython",
    "version": 3
   },
   "file_extension": ".py",
   "mimetype": "text/x-python",
   "name": "python",
   "nbconvert_exporter": "python",
   "pygments_lexer": "ipython3",
   "version": "3.12.6"
  }
 },
 "nbformat": 4,
 "nbformat_minor": 2
}

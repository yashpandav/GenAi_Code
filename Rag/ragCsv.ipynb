{
 "cells": [
  {
   "cell_type": "markdown",
   "metadata": {},
   "source": [
    "# First Load File"
   ]
  },
  {
   "cell_type": "code",
   "execution_count": 10,
   "metadata": {},
   "outputs": [],
   "source": [
    "from langchain_community.document_loaders.csv_loader import CSVLoader"
   ]
  },
  {
   "cell_type": "code",
   "execution_count": 11,
   "metadata": {},
   "outputs": [],
   "source": [
    "file_path = \"TSX Data  - Sheet1.csv\"\n",
    "loader = CSVLoader(file_path=file_path)\n",
    "data = loader.load()"
   ]
  },
  {
   "cell_type": "markdown",
   "metadata": {},
   "source": [
    "# Create a Text Splitter / Chunker"
   ]
  },
  {
   "cell_type": "code",
   "execution_count": 12,
   "metadata": {},
   "outputs": [],
   "source": [
    "from langchain_text_splitters import RecursiveCharacterTextSplitter"
   ]
  },
  {
   "cell_type": "code",
   "execution_count": 13,
   "metadata": {},
   "outputs": [],
   "source": [
    "text_splitter = RecursiveCharacterTextSplitter(\n",
    "    chunk_size=1000,\n",
    "    chunk_overlap=200,\n",
    ")"
   ]
  },
  {
   "cell_type": "markdown",
   "metadata": {},
   "source": [
    "# Apply text_spliiter to your doc"
   ]
  },
  {
   "cell_type": "code",
   "execution_count": 14,
   "metadata": {},
   "outputs": [],
   "source": [
    "split = text_splitter.split_documents(data)"
   ]
  },
  {
   "cell_type": "markdown",
   "metadata": {},
   "source": [
    "# DB and Embeddign Model"
   ]
  },
  {
   "cell_type": "code",
   "execution_count": 15,
   "metadata": {},
   "outputs": [],
   "source": [
    "from langchain_chroma import Chroma\n",
    "from langchain_google_genai import GoogleGenerativeAIEmbeddings"
   ]
  },
  {
   "cell_type": "code",
   "execution_count": 16,
   "metadata": {},
   "outputs": [],
   "source": [
    "embedder = GoogleGenerativeAIEmbeddings(\n",
    "    model=\"models/embedding-001\"\n",
    ")"
   ]
  },
  {
   "cell_type": "markdown",
   "metadata": {},
   "source": [
    "# Store vector into the db"
   ]
  },
  {
   "cell_type": "code",
   "execution_count": 17,
   "metadata": {},
   "outputs": [
    {
     "name": "stdout",
     "output_type": "stream",
     "text": [
      "New Chroma DB created.\n"
     ]
    }
   ],
   "source": [
    "import os\n",
    "\n",
    "if not os.path.exists(\"TSX\"):\n",
    "    store = Chroma.from_documents(\n",
    "        documents=split,\n",
    "        embedding=embedder,\n",
    "        collection_name=\"TSX\",\n",
    "        persist_directory=\"TSX\",\n",
    "    )\n",
    "    print(\"New Chroma DB created.\")\n",
    "else:\n",
    "    print(\"Directory already exists. Skipping creation.\")"
   ]
  },
  {
   "cell_type": "markdown",
   "metadata": {},
   "source": [
    "# Creating one retriever from the db"
   ]
  },
  {
   "cell_type": "code",
   "execution_count": 18,
   "metadata": {},
   "outputs": [],
   "source": [
    "retriver = store.as_retriever(\n",
    "    search_type = \"similarity\",\n",
    "    search_kwargs={\n",
    "        \"k\": 5,\n",
    "    }\n",
    ")"
   ]
  },
  {
   "cell_type": "markdown",
   "metadata": {},
   "source": [
    "# Creating a rag chain "
   ]
  },
  {
   "cell_type": "code",
   "execution_count": 19,
   "metadata": {},
   "outputs": [],
   "source": [
    "from langchain.chains import create_retrieval_chain\n",
    "from langchain_core.prompts import ChatPromptTemplate\n",
    "from langchain.chains.combine_documents import create_stuff_documents_chain\n",
    "from langchain_google_genai import ChatGoogleGenerativeAI\n"
   ]
  },
  {
   "cell_type": "markdown",
   "metadata": {},
   "source": [
    "# Chat Model"
   ]
  },
  {
   "cell_type": "code",
   "execution_count": 20,
   "metadata": {},
   "outputs": [],
   "source": [
    "llm = ChatGoogleGenerativeAI(model=\"gemini-1.5-pro\",temperature=0.5, max_tokens=500)"
   ]
  },
  {
   "cell_type": "code",
   "execution_count": 21,
   "metadata": {},
   "outputs": [],
   "source": [
    "system_prompt = (\n",
    "    \"You are a helpful assistant that answers questions about the TSX data Of CSV file. {context}\"\n",
    ")"
   ]
  },
  {
   "cell_type": "code",
   "execution_count": 22,
   "metadata": {},
   "outputs": [],
   "source": [
    "prompt = ChatPromptTemplate.from_messages(\n",
    "    [\n",
    "        (\"system\", system_prompt),\n",
    "        (\"human\", \"{input}\"),\n",
    "    ]\n",
    "\n",
    ")"
   ]
  },
  {
   "cell_type": "markdown",
   "metadata": {},
   "source": [
    "# Creating a chain"
   ]
  },
  {
   "cell_type": "code",
   "execution_count": 23,
   "metadata": {},
   "outputs": [],
   "source": [
    "question_answer_chain = create_stuff_documents_chain(llm, prompt) # connect llm and prompt"
   ]
  },
  {
   "cell_type": "code",
   "execution_count": 24,
   "metadata": {},
   "outputs": [],
   "source": [
    "retrieve_chain = create_retrieval_chain(  # connect retriever/db and chain\n",
    "    retriver,\n",
    "    question_answer_chain,\n",
    ")"
   ]
  },
  {
   "cell_type": "code",
   "execution_count": 25,
   "metadata": {},
   "outputs": [],
   "source": [
    "query = \"Provide me a full list of all user\""
   ]
  },
  {
   "cell_type": "code",
   "execution_count": 26,
   "metadata": {},
   "outputs": [
    {
     "name": "stdout",
     "output_type": "stream",
     "text": [
      "Here's a list of all users from the provided data:\n",
      "\n",
      "1. **Sarah Johnson:**\n",
      "   - Contact Number: (212) 555-4567\n",
      "   - Gender: Female\n",
      "   - Area: North\n",
      "   - Sub Area: Downtown\n",
      "   - Guptin (No): 1458\n",
      "   - Repeat Guption (No): 2\n",
      "   - Sales ROI: 3.2\n",
      "   - Margin: 11.50%\n",
      "\n",
      "2. **Michael Chen:**\n",
      "   - Contact Number: (212) 555-4567\n",
      "   - Gender: Male\n",
      "   - Area: South\n",
      "   - Sub Area: Riverside\n",
      "   - Guptin (No): 2367\n",
      "   - Repeat Guption (No): 0\n",
      "   - Sales ROI: 2.8\n",
      "   - Margin: 11.50%\n",
      "\n",
      "3. **Emma Wilson:**\n",
      "   - Contact Number: (212) 555-4567\n",
      "   - Gender: Male\n",
      "   - Area: West\n",
      "   - Sub Area: Hillside\n",
      "   - Guptin (No): 2104\n",
      "   - Repeat Guption (No): 3\n",
      "   - Sales ROI: 2.5\n",
      "   - Margin: 11.50%\n",
      "\n",
      "4. **David Garcia:**\n",
      "   - Contact Number: (212) 555-4567\n",
      "   - Gender: Female\n",
      "   - Area: North\n",
      "   - Sub Area: Uptown\n",
      "   - Guptin (No): 1743\n",
      "   - Repeat Guption (No): 1\n",
      "   - Sales ROI: 3.7\n",
      "   - Margin: 16.20%\n",
      "\n",
      "5. **James Patel:**\n",
      "   - Contact Number: (212) 555-4567\n",
      "   - Gender: Female\n",
      "   - Area: East\n",
      "   - Sub Area: Harbor\n",
      "   - Guptin (No): 1895\n",
      "   - Repeat Guption (No): 1\n",
      "   - Sales ROI: 4.1\n",
      "   - Margin: 11.50%\n"
     ]
    }
   ],
   "source": [
    "response = retrieve_chain.invoke({\"input\": query})\n",
    "print(response['answer'])"
   ]
  }
 ],
 "metadata": {
  "kernelspec": {
   "display_name": "venv",
   "language": "python",
   "name": "python3"
  },
  "language_info": {
   "codemirror_mode": {
    "name": "ipython",
    "version": 3
   },
   "file_extension": ".py",
   "mimetype": "text/x-python",
   "name": "python",
   "nbconvert_exporter": "python",
   "pygments_lexer": "ipython3",
   "version": "3.12.6"
  }
 },
 "nbformat": 4,
 "nbformat_minor": 2
}

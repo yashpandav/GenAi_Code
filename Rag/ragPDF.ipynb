{
 "cells": [
  {
   "cell_type": "code",
   "execution_count": 14,
   "metadata": {},
   "outputs": [],
   "source": [
    "from pathlib import Path\n",
    "from langchain_community.document_loaders import PyPDFLoader\n",
    "from langchain_text_splitters import RecursiveCharacterTextSplitter\n",
    "from langchain_google_genai import GoogleGenerativeAIEmbeddings\n",
    "from langchain_chroma import Chroma"
   ]
  },
  {
   "cell_type": "code",
   "execution_count": 15,
   "metadata": {},
   "outputs": [
    {
     "data": {
      "text/plain": [
       "True"
      ]
     },
     "execution_count": 15,
     "metadata": {},
     "output_type": "execute_result"
    }
   ],
   "source": [
    "\n",
    "from dotenv import load_dotenv\n",
    "load_dotenv() "
   ]
  },
  {
   "cell_type": "code",
   "execution_count": 25,
   "metadata": {},
   "outputs": [],
   "source": [
    "pdf_path = Path(\"./Data Analysis With Python & Pandas.pdf\")"
   ]
  },
  {
   "cell_type": "code",
   "execution_count": 26,
   "metadata": {},
   "outputs": [],
   "source": [
    "\n",
    "load = PyPDFLoader(file_path = pdf_path)\n",
    "doc = load.load()\n"
   ]
  },
  {
   "cell_type": "code",
   "execution_count": 27,
   "metadata": {},
   "outputs": [],
   "source": [
    "\n",
    "text_splitter = RecursiveCharacterTextSplitter(\n",
    "    chunk_size = 1000,\n",
    "    chunk_overlap = 200\n",
    ")"
   ]
  },
  {
   "cell_type": "code",
   "execution_count": 28,
   "metadata": {},
   "outputs": [],
   "source": [
    "\n",
    "\n",
    "spited = text_splitter.split_documents(documents=doc)"
   ]
  },
  {
   "cell_type": "code",
   "execution_count": null,
   "metadata": {},
   "outputs": [],
   "source": [
    "store = Chroma.from_documents(\n",
    "    documents=spited,\n",
    "    embedding=GoogleGenerativeAIEmbeddings(model=\"models/embedding-001\"),\n",
    "    persist_directory=\"qdrant_store\"\n",
    "    \n",
    ")"
   ]
  },
  {
   "cell_type": "code",
   "execution_count": 31,
   "metadata": {},
   "outputs": [],
   "source": [
    "retriever = store.as_retriever(\n",
    "     search_type = \"similarity\",\n",
    "        search_kwargs = {\n",
    "            \"k\":10 \n",
    "        }\n",
    ")"
   ]
  },
  {
   "cell_type": "code",
   "execution_count": 32,
   "metadata": {},
   "outputs": [],
   "source": [
    "retrieved_docs = retriever.invoke(\"What is node js\")"
   ]
  },
  {
   "cell_type": "code",
   "execution_count": 33,
   "metadata": {},
   "outputs": [],
   "source": [
    "from langchain_google_genai import ChatGoogleGenerativeAI\n",
    "\n",
    "llm = ChatGoogleGenerativeAI(model=\"gemini-1.5-pro\",temperature=0.3, max_tokens=500)"
   ]
  },
  {
   "cell_type": "code",
   "execution_count": 34,
   "metadata": {},
   "outputs": [],
   "source": [
    "from langchain.chains import create_retrieval_chain\n",
    "from langchain.chains.combine_documents import create_stuff_documents_chain\n",
    "from langchain_core.prompts import ChatPromptTemplate"
   ]
  },
  {
   "cell_type": "code",
   "execution_count": 35,
   "metadata": {},
   "outputs": [],
   "source": [
    "system_prompt = (\n",
    "    \"You are a helpful assistant that answers questions about Data Science {context}\"\n",
    ")\n",
    "\n",
    "prompt = ChatPromptTemplate.from_messages(\n",
    "    [\n",
    "        (\"system\", system_prompt),\n",
    "        (\"user\", \"{input}\"),\n",
    "    ]\n",
    ")"
   ]
  },
  {
   "cell_type": "code",
   "execution_count": 36,
   "metadata": {},
   "outputs": [],
   "source": [
    "question_answer_chain = create_stuff_documents_chain(llm, prompt)\n",
    "rag_chain = create_retrieval_chain(retriever, question_answer_chain)\n",
    "    "
   ]
  },
  {
   "cell_type": "code",
   "execution_count": 37,
   "metadata": {},
   "outputs": [
    {
     "name": "stdout",
     "output_type": "stream",
     "text": [
      "A Pandas DataFrame is a two-dimensional, size-mutable, potentially heterogeneous tabular data structure with labeled axes (rows and columns).  Think of it like a spreadsheet, a SQL table, or a dictionary of Series objects.  It's the most commonly used Pandas object for data manipulation and analysis in Python.\n",
      "\n",
      "Here's a breakdown of key aspects of DataFrames:\n",
      "\n",
      "**Key Features:**\n",
      "\n",
      "* **Two-Dimensional:** DataFrames are organized in rows and columns, allowing you to store and access data in a grid-like format.\n",
      "* **Size-Mutable:** You can easily add or remove rows and columns from a DataFrame after it's created.\n",
      "* **Potentially Heterogeneous:**  Unlike NumPy arrays, DataFrames can hold columns of different data types (e.g., integers, floats, strings, booleans, dates).\n",
      "* **Labeled Axes:**  Both rows and columns have labels (indexes), making it easier to access and manipulate specific parts of the data.  These labels don't have to be just numbers; they can be strings or other data types.\n",
      "\n",
      "**Structure:**\n",
      "\n",
      "* **Series:** Each column in a DataFrame is a Pandas Series, which is a one-dimensional labeled array.  All Series in a DataFrame share the same row index.\n",
      "* **Index:** The row index (axis=0) and column index (axis=1) provide labels for accessing data.\n",
      "* **Data Alignment:** Pandas automatically aligns data based on the index when performing operations between DataFrames or Series.\n",
      "\n",
      "**Creating DataFrames:**\n",
      "\n",
      "DataFrames can be created from various sources, including:\n",
      "\n",
      "* **Dictionaries:**  Keys become column names, and values become the data within each column.\n",
      "* **Lists of Lists:** Each inner list represents a row in the DataFrame.\n",
      "* **NumPy Arrays:**  You can convert a NumPy array into a DataFrame.\n",
      "* **CSV Files:**  The `pd.read_csv()` function is commonly used to import data from CSV files.\n",
      "* **Excel Files:**  Pandas can read data from Excel files using `pd.read_excel()`.\n",
      "* **SQL Databases:**  You can query databases and load the results into a DataFrame.\n",
      "\n",
      "**Exploring DataFrames:**\n",
      "\n",
      "Pandas provides several methods for exploring DataFrames:\n",
      "\n",
      "* `head(n)`: Displays the first `n` rows.\n",
      "* `tail(n)`:\n"
     ]
    }
   ],
   "source": [
    "response = rag_chain.invoke({\"input\": \"Can you explain Data Frame in Pandas?\"})\n",
    "print(response[\"answer\"])"
   ]
  },
  {
   "cell_type": "code",
   "execution_count": null,
   "metadata": {},
   "outputs": [],
   "source": []
  }
 ],
 "metadata": {
  "kernelspec": {
   "display_name": "venv",
   "language": "python",
   "name": "python3"
  },
  "language_info": {
   "codemirror_mode": {
    "name": "ipython",
    "version": 3
   },
   "file_extension": ".py",
   "mimetype": "text/x-python",
   "name": "python",
   "nbconvert_exporter": "python",
   "pygments_lexer": "ipython3",
   "version": "3.12.6"
  }
 },
 "nbformat": 4,
 "nbformat_minor": 2
}
